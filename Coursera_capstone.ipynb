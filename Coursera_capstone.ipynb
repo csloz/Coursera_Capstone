{
 "metadata": {
  "language_info": {
   "codemirror_mode": {
    "name": "ipython",
    "version": 3
   },
   "file_extension": ".py",
   "mimetype": "text/x-python",
   "name": "python",
   "nbconvert_exporter": "python",
   "pygments_lexer": "ipython3",
   "version": 3
  },
  "orig_nbformat": 4
 },
 "nbformat": 4,
 "nbformat_minor": 2,
 "cells": [
  {
   "source": [
    "#Capstone Project\n",
    "\n",
    "###Lawrence Sheed\n",
    "\n",
    "---\n",
    "\n",
    "###NOTES:\n",
    "\n",
    "`pyenv install 3.9.6`\n",
    "\n",
    "`pyenv versions` \n",
    "\n",
    "`echo 'eval \"$(pyenv init -)\"' >> ~/.bash_profile`\n",
    "\n",
    "*Reload bash (exit/enter again or run ~/.bash_profile ), then go to the Capstone_Project folder and run*\n",
    "\n",
    "`pyenv local 3.9.6`\n",
    "\n",
    "---\n",
    "\n",
    "\n",
    "\n",
    "\n",
    "\n"
   ],
   "cell_type": "markdown",
   "metadata": {}
  },
  {
   "cell_type": "code",
   "execution_count": null,
   "metadata": {},
   "outputs": [],
   "source": [
    "import pandas as pd\n",
    "import numpy as numpy\n",
    "print \"Hello Capstone Project Course!\""
   ]
  },
  {
   "cell_type": "code",
   "execution_count": null,
   "metadata": {},
   "outputs": [],
   "source": []
  }
 ]
}