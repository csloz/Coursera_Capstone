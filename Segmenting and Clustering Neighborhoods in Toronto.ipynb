{
    "cells": [
        {
            "cell_type": "markdown",
            "source": [
                "#Capstone Project\n",
                "\n",
                "###*Lawrence Sheed*\n",
                "\n",
                "---\n"
            ],
            "metadata": {}
        },
        {
            "cell_type": "code",
            "execution_count": 57,
            "source": [
                "#Disable pip's bloody annoying warnings\n",
                "%env _PIP_LOCATIONS_NO_WARN_ON_MISMATCH=1 \n",
                "\n",
                "#disable python warnings\n",
                "import warnings\n",
                "warnings.filterwarnings('ignore')\n",
                "warnings.simplefilter('ignore')\n",
                "\n",
                "#install libraries needed\n",
                "!pip install beautifulsoup4\n",
                "!pip install requests\n",
                "!pip install pandas\n",
                "!pip install numpy\n",
                "!pip install matplotlib\n",
                "!pip install geopy\n",
                "\n",
                "#import libraries\n",
                "import requests # library to handle requests\n",
                "import pandas as pd # library for data analsysis\n",
                "import numpy as np # library to handle data in a vectorized manner\n",
                "import json\n",
                "import folium \n",
                "from bs4 import BeautifulSoup  \n",
                "\n",
                "from geopy.geocoders import Nominatim # convert an address into latitude and longitude values\n",
                "\n",
                "import requests # library to handle requests\n",
                "from pandas.io.json import json_normalize # tranform JSON file into a pandas dataframe\n",
                "\n",
                "\n",
                "# Matplotlib and associated plotting modules\n",
                "import matplotlib.cm as cm\n",
                "import matplotlib.colors as colors\n",
                "    \n",
                "\n",
                "from sklearn.cluster import KMeans\n",
                "from IPython.display import display_html\n",
                "from geopy.geocoders import Nominatim # module to convert an address into latitude and longitude values\n",
                "\n",
                "print('Libraries imported.')\n",
                "\n",
                "pd.set_option('display.max_columns', None)\n",
                "pd.set_option('display.max_rows', None)\n",
                "\n"
            ],
            "outputs": [
                {
                    "output_type": "stream",
                    "name": "stdout",
                    "text": [
                        "env: _PIP_LOCATIONS_NO_WARN_ON_MISMATCH=1\n",
                        "Requirement already satisfied: beautifulsoup4 in /usr/local/lib/python3.9/site-packages (4.9.3)\n",
                        "Requirement already satisfied: soupsieve>1.2 in /usr/local/lib/python3.9/site-packages (from beautifulsoup4) (2.2.1)\n",
                        "Requirement already satisfied: requests in /usr/local/lib/python3.9/site-packages (2.26.0)\n",
                        "Requirement already satisfied: idna<4,>=2.5 in /usr/local/lib/python3.9/site-packages (from requests) (3.2)\n",
                        "Requirement already satisfied: urllib3<1.27,>=1.21.1 in /usr/local/lib/python3.9/site-packages (from requests) (1.26.6)\n",
                        "Requirement already satisfied: certifi>=2017.4.17 in /usr/local/lib/python3.9/site-packages (from requests) (2021.5.30)\n",
                        "Requirement already satisfied: charset-normalizer~=2.0.0 in /usr/local/lib/python3.9/site-packages (from requests) (2.0.3)\n",
                        "Requirement already satisfied: pandas in /usr/local/lib/python3.9/site-packages (1.3.1)\n",
                        "Requirement already satisfied: python-dateutil>=2.7.3 in /Users/lawrence/Library/Python/3.9/lib/python/site-packages (from pandas) (2.8.2)\n",
                        "Requirement already satisfied: numpy>=1.17.3 in /usr/local/lib/python3.9/site-packages (from pandas) (1.21.1)\n",
                        "Requirement already satisfied: pytz>=2017.3 in /usr/local/lib/python3.9/site-packages (from pandas) (2021.1)\n",
                        "Requirement already satisfied: six>=1.5 in /usr/local/lib/python3.9/site-packages (from python-dateutil>=2.7.3->pandas) (1.16.0)\n",
                        "Requirement already satisfied: numpy in /usr/local/lib/python3.9/site-packages (1.21.1)\n",
                        "Requirement already satisfied: matplotlib in /usr/local/lib/python3.9/site-packages (3.4.2)\n",
                        "Requirement already satisfied: python-dateutil>=2.7 in /Users/lawrence/Library/Python/3.9/lib/python/site-packages (from matplotlib) (2.8.2)\n",
                        "Requirement already satisfied: pillow>=6.2.0 in /usr/local/lib/python3.9/site-packages (from matplotlib) (8.3.1)\n",
                        "Requirement already satisfied: kiwisolver>=1.0.1 in /usr/local/lib/python3.9/site-packages (from matplotlib) (1.3.1)\n",
                        "Requirement already satisfied: pyparsing>=2.2.1 in /usr/local/lib/python3.9/site-packages (from matplotlib) (2.4.7)\n",
                        "Requirement already satisfied: numpy>=1.16 in /usr/local/lib/python3.9/site-packages (from matplotlib) (1.21.1)\n",
                        "Requirement already satisfied: cycler>=0.10 in /usr/local/lib/python3.9/site-packages (from matplotlib) (0.10.0)\n",
                        "Requirement already satisfied: six in /usr/local/lib/python3.9/site-packages (from cycler>=0.10->matplotlib) (1.16.0)\n",
                        "Requirement already satisfied: geopy in /usr/local/lib/python3.9/site-packages (2.2.0)\n",
                        "Requirement already satisfied: geographiclib<2,>=1.49 in /usr/local/lib/python3.9/site-packages (from geopy) (1.52)\n",
                        "Libraries imported.\n"
                    ]
                }
            ],
            "metadata": {}
        },
        {
            "cell_type": "code",
            "execution_count": 60,
            "source": [
                "# URL https://en.wikipedia.org/wiki/List_of_postal_codes_of_Canada:_M\n",
                "\n",
                "#Read table with soup\n",
                "url = \"https://en.wikipedia.org/wiki/List_of_postal_codes_of_Canada:_M\"\n",
                "req = requests.get(url).text\n",
                "soup= BeautifulSoup (req,'lxml')\n",
                "table = soup.find ('table')\n",
                "\n",
                "#disable debug code to see what was up with the tables\n",
                "#print (table)\n",
                "#myTable=str(soup.table)\n",
                "#display_html(myTable,raw=True)\n",
                "\n"
            ],
            "outputs": [],
            "metadata": {}
        },
        {
            "cell_type": "code",
            "execution_count": 56,
            "source": [
                "\n",
                "table_contents=[]\n",
                "#table=soup.find('table')\n",
                "\n",
                "for row in table.findAll('td'):\n",
                "    cell = {}\n",
                "    if row.span.text=='Not assigned':\n",
                "        pass\n",
                "    else:\n",
                "        cell['PostalCode'] = row.p.text[:3]\n",
                "        cell['Borough'] = (row.span.text).split('(')[0]\n",
                "        cell['Neighborhood'] = (((((row.span.text).split('(')[1]).strip(')')).replace(' /',',')).replace(')',' ')).strip(' ')\n",
                "        table_contents.append(cell)\n",
                "\n",
                "# print(table_contents)\n",
                "df=pd.DataFrame(table_contents)\n",
                "df['Borough']=df['Borough'].replace({'Downtown TorontoStn A PO Boxes25 The Esplanade':'Downtown Toronto Stn A','East TorontoBusiness reply mail Processing Centre969 Eastern':'East Toronto Business','EtobicokeNorthwest':'Etobicoke Northwest','East YorkEast Toronto':'East York/East Toronto','MississaugaCanada Post Gateway Processing Centre':'Mississauga'})\n",
                "\n",
                "print (df.head())\n",
                "print()\n",
                "\n",
                "print('The dataframe has {} boroughs and {} neighborhoods.'.format(\n",
                "        len(df['Borough'].unique()),\n",
                "        df.shape[0]\n",
                "    )\n",
                ")\n"
            ],
            "outputs": [
                {
                    "output_type": "stream",
                    "name": "stdout",
                    "text": [
                        "  PostalCode           Borough                      Neighborhood\n",
                        "0        M3A        North York                         Parkwoods\n",
                        "1        M4A        North York                  Victoria Village\n",
                        "2        M5A  Downtown Toronto         Regent Park, Harbourfront\n",
                        "3        M6A        North York  Lawrence Manor, Lawrence Heights\n",
                        "4        M7A      Queen's Park     Ontario Provincial Government\n",
                        "\n",
                        "The dataframe has 15 boroughs and 103 neighborhoods.\n"
                    ]
                }
            ],
            "metadata": {}
        },
        {
            "cell_type": "code",
            "execution_count": 12,
            "source": [],
            "outputs": [
                {
                    "output_type": "stream",
                    "name": "stdout",
                    "text": [
                        "Requirement already satisfied: geopy in /usr/local/lib/python3.9/site-packages (2.2.0)\n",
                        "Requirement already satisfied: geographiclib<2,>=1.49 in /usr/local/lib/python3.9/site-packages (from geopy) (1.52)\n"
                    ]
                }
            ],
            "metadata": {}
        },
        {
            "cell_type": "code",
            "execution_count": null,
            "source": [],
            "outputs": [],
            "metadata": {}
        }
    ],
    "metadata": {
        "orig_nbformat": 4,
        "language_info": {
            "name": "python",
            "version": "3.9.6",
            "mimetype": "text/x-python",
            "codemirror_mode": {
                "name": "ipython",
                "version": 3
            },
            "pygments_lexer": "ipython3",
            "nbconvert_exporter": "python",
            "file_extension": ".py"
        },
        "kernelspec": {
            "name": "python3",
            "display_name": "Python 3.9.6 64-bit"
        },
        "interpreter": {
            "hash": "aee8b7b246df8f9039afb4144a1f6fd8d2ca17a180786b69acc140d282b71a49"
        }
    },
    "nbformat": 4,
    "nbformat_minor": 2
}